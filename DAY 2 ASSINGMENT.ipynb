{
 "cells": [
  {
   "cell_type": "code",
   "execution_count": 18,
   "metadata": {},
   "outputs": [
    {
     "name": "stdout",
     "output_type": "stream",
     "text": [
      "thanos kills gamora\n",
      "Thanos kills gamora\n",
      "THANOS KILLS GAMORA\n",
      "thanos kills loki\n",
      "True\n",
      "thanos kills gamora                                          on vormir for soulstone\n"
     ]
    }
   ],
   "source": [
    "#QUESTION 1 5 STRING FUNCTIONS\n",
    "str =\"thanos kills gamora\"\n",
    "print(str)\n",
    "str.capitalize()  #1\n",
    "print(str.capitalize())\n",
    "str.swapcase() #2\n",
    "print(str.swapcase())\n",
    "str.replace(\"gamora\",\"loki\",1) #3\n",
    "print(str.replace(\"gamora\",\"loki\",1))\n",
    "y  = str.islower() #4\n",
    "print(y)\n",
    "a = str.ljust(60) #5\n",
    "print(a, \"on vormir for soulstone\")"
   ]
  },
  {
   "cell_type": "code",
   "execution_count": 36,
   "metadata": {},
   "outputs": [
    {
     "name": "stdout",
     "output_type": "stream",
     "text": [
      "['cherry', 'pears', 'mango', 'litchi', 'apple', 'kiwi']\n",
      "['kiwi', 'apple', 'litchi', 'mango', 'pears', 'cherry']\n",
      "['apple', 'cherry', 'kiwi', 'litchi', 'mango', 'pears']\n",
      "['apple', 'cherry', 'kiwi', 'litchi', 'mango', 'pears', 'dragonfruit']\n",
      "2\n",
      "[]\n"
     ]
    }
   ],
   "source": [
    "#QUESTION 2 5 list FUNCTIONS\n",
    "lst = [\"cherry\", \"pears\" ,\"mango\", \"litchi\", \"apple\", \"kiwi\"]\n",
    "print(lst)\n",
    "lst.reverse() #1\n",
    "print(lst)\n",
    "lst.sort() #2\n",
    "print(lst)\n",
    "lst.append(\"dragonfruit\") #3\n",
    "print(lst)\n",
    "y = lst.index(\"kiwi\") #4\n",
    "print(y)\n",
    "lst.clear() #5\n",
    "print(lst)"
   ]
  },
  {
   "cell_type": "code",
   "execution_count": 43,
   "metadata": {},
   "outputs": [
    {
     "name": "stdout",
     "output_type": "stream",
     "text": [
      "{'first': 'steve', 'second': 'natasha', 'third': 'bruce', 'fourth': 'clint', 'fifth': 'anthony edward stark', 'sixth': 'thor'}\n",
      "dict_values(['steve', 'natasha', 'bruce', 'clint', 'anthony edward stark', 'thor'])\n",
      "{'first': 'steve', 'second': 'natasha', 'third': 'bruce', 'fourth': 'clint', 'fifth': 'anthony edward stark', 'sixth': 'thor', 'oneword': 'OG6 AVENGERS'}\n",
      "dict_keys(['first', 'second', 'third', 'fourth', 'fifth', 'sixth', 'oneword'])\n",
      "dict_items([('first', 'steve'), ('second', 'natasha'), ('third', 'bruce'), ('fourth', 'clint'), ('fifth', 'anthony edward stark'), ('sixth', 'thor'), ('oneword', 'OG6 AVENGERS')])\n",
      "bruce\n"
     ]
    }
   ],
   "source": [
    "#QUESTION 3 5 dictionary FUNCTIONS\n",
    "dit = {\"first\": \"steve\", \"second\": \"natasha\", \"third\":\"bruce\", \"fourth\":\"clint\", \"fifth\":\"anthony edward stark\", \"sixth\":\"thor\"}\n",
    "print(dit)\n",
    "a = dit.values() #1\n",
    "print(a)\n",
    "dit.update({\"oneword\": \"OG6 AVENGERS\"}) #2\n",
    "print(dit)\n",
    "b = dit.keys()  #3\n",
    "print(b)\n",
    "c = dit.items()  #4\n",
    "print(c)\n",
    "d = dit.get(\"third\")  #5\n",
    "print(d)"
   ]
  },
  {
   "cell_type": "code",
   "execution_count": null,
   "metadata": {},
   "outputs": [],
   "source": []
  }
 ],
 "metadata": {
  "kernelspec": {
   "display_name": "Python 3",
   "language": "python",
   "name": "python3"
  },
  "language_info": {
   "codemirror_mode": {
    "name": "ipython",
    "version": 3
   },
   "file_extension": ".py",
   "mimetype": "text/x-python",
   "name": "python",
   "nbconvert_exporter": "python",
   "pygments_lexer": "ipython3",
   "version": "3.8.3"
  }
 },
 "nbformat": 4,
 "nbformat_minor": 4
}
