{
 "cells": [
  {
   "cell_type": "code",
   "execution_count": null,
   "metadata": {},
   "outputs": [
    {
     "name": "stdout",
     "output_type": "stream",
     "text": [
      "Requirement already satisfied: pytube in c:\\users\\user\\anaconda3\\lib\\site-packages (10.0.0)\n",
      "Requirement already satisfied: typing-extensions in c:\\users\\user\\anaconda3\\lib\\site-packages (from pytube) (3.7.4.2)\n"
     ]
    }
   ],
   "source": [
    "!pip install pytube\n",
    "\n",
    "\n",
    "from pytube import YouTube\n",
    "import os\n",
    "from tkinter import *\n",
    "\n",
    "root=Tk()\n",
    "root.geometry('800x400')\n",
    "root.title('Youtube Video Downloader project')\n",
    "\n",
    "\n",
    "La1=Label(root,text=\"Paste The Youtube Link Here\", font=(\"bold\",20))\n",
    "La1.place(x=120,y=20)\n",
    "\n",
    "mylink=StringVar()\n",
    "\n",
    "pastelink=Entry(root, width=80, textvariable=mylink)\n",
    "pastelink.place(x=160, y=100)\n",
    "\n",
    "\n",
    "\n",
    "def downloadvideo():\n",
    "    a=str(mylink.get())\n",
    "    ytvideo=YouTube(a).streams.filter(progressive=True, file_extension='mp4').order_by('resolution').desc().first()\n",
    "    if not os.path.exists('J:/python online'):\n",
    "        os.makedirs('J:/python online')\n",
    "    ytvideo.download('J:/python online') \n",
    "\n",
    "Button(root,text=\"Download video\", width=20, bg='green',fg=\"white\", command=downloadvideo).place(x=220, y=110)\n",
    "\n",
    "root.mainloop()\n",
    "               "
   ]
  },
  {
   "cell_type": "code",
   "execution_count": null,
   "metadata": {},
   "outputs": [],
   "source": []
  }
 ],
 "metadata": {
  "kernelspec": {
   "display_name": "Python 3",
   "language": "python",
   "name": "python3"
  },
  "language_info": {
   "codemirror_mode": {
    "name": "ipython",
    "version": 3
   },
   "file_extension": ".py",
   "mimetype": "text/x-python",
   "name": "python",
   "nbconvert_exporter": "python",
   "pygments_lexer": "ipython3",
   "version": "3.8.3"
  }
 },
 "nbformat": 4,
 "nbformat_minor": 4
}
