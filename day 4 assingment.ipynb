{
 "cells": [
  {
   "cell_type": "code",
   "execution_count": 3,
   "metadata": {},
   "outputs": [],
   "source": [
    "#question1\n",
    "a = open(\"question1.txt\",'w')   #open\n",
    "a.write(\"i love letsupgrade\")  #write\n",
    "a.close()                      #close\n",
    "a = open(\"question1.txt\",'r')   #read\n",
    "content = a.read()\n",
    "a.close()\n",
    "a = open(\"question1.txt\",'a')      #appending\n",
    "a.write(\" because it teaches concepts easier for understanding a non coder person\")\n",
    "a.close()\n",
    "\n",
    "\n",
    "\n"
   ]
  },
  {
   "cell_type": "code",
   "execution_count": 26,
   "metadata": {},
   "outputs": [
    {
     "name": "stdout",
     "output_type": "stream",
     "text": [
      "Input a number to compute the factiorial : 10\n",
      "3628800\n"
     ]
    }
   ],
   "source": [
    "def factorial(a):\n",
    "    if a == 0:                               #question 2\n",
    "        return 1\n",
    "    else:\n",
    "        return a * factorial(a-1)\n",
    "a=int(input(\"Input a number to compute the factiorial : \"))\n",
    "print(factorial(a))"
   ]
  },
  {
   "cell_type": "code",
   "execution_count": null,
   "metadata": {},
   "outputs": [],
   "source": []
  }
 ],
 "metadata": {
  "kernelspec": {
   "display_name": "Python 3",
   "language": "python",
   "name": "python3"
  },
  "language_info": {
   "codemirror_mode": {
    "name": "ipython",
    "version": 3
   },
   "file_extension": ".py",
   "mimetype": "text/x-python",
   "name": "python",
   "nbconvert_exporter": "python",
   "pygments_lexer": "ipython3",
   "version": "3.8.3"
  }
 },
 "nbformat": 4,
 "nbformat_minor": 4
}
